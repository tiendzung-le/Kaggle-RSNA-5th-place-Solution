{
 "cells": [
  {
   "cell_type": "code",
   "execution_count": 1,
   "metadata": {
    "ExecuteTime": {
     "end_time": "2019-10-09T13:32:16.588773Z",
     "start_time": "2019-10-09T13:31:58.466316Z"
    }
   },
   "outputs": [],
   "source": [
    "from __future__ import print_function\n",
    "import sklearn\n",
    "import sklearn.datasets\n",
    "import sklearn.ensemble\n",
    "import pandas as pd\n",
    "import numpy as np\n",
    "# import h2o\n",
    "# from h2o.estimators.random_forest import H2ORandomForestEstimator\n",
    "# from h2o.estimators.gbm import H2OGradientBoostingEstimator\n",
    "\n",
    "np.random.seed(1)\n",
    "\n",
    "import datetime as dt\n",
    "pd.set_option('display.max_columns', 500)\n",
    "pd.set_option('display.max_rows', 500)\n",
    "import matplotlib as mpl\n",
    "import matplotlib.pyplot as plt\n",
    "import seaborn as sns\n",
    "import warnings\n",
    "warnings.filterwarnings('ignore')\n",
    "import pickle\n",
    "import re\n",
    "\n",
    "%matplotlib inline"
   ]
  },
  {
   "cell_type": "code",
   "execution_count": 2,
   "metadata": {
    "ExecuteTime": {
     "end_time": "2019-10-09T13:32:16.594948Z",
     "start_time": "2019-10-09T13:32:16.591999Z"
    }
   },
   "outputs": [],
   "source": [
    "input_dir = \"../input/\""
   ]
  },
  {
   "cell_type": "markdown",
   "metadata": {},
   "source": [
    "# Metadata"
   ]
  },
  {
   "cell_type": "code",
   "execution_count": 3,
   "metadata": {
    "ExecuteTime": {
     "end_time": "2019-10-09T13:32:19.594295Z",
     "start_time": "2019-10-09T13:32:16.597489Z"
    }
   },
   "outputs": [
    {
     "name": "stdout",
     "output_type": "stream",
     "text": [
      "(674258, 6)\n"
     ]
    },
    {
     "data": {
      "text/html": [
       "<div>\n",
       "<style scoped>\n",
       "    .dataframe tbody tr th:only-of-type {\n",
       "        vertical-align: middle;\n",
       "    }\n",
       "\n",
       "    .dataframe tbody tr th {\n",
       "        vertical-align: top;\n",
       "    }\n",
       "\n",
       "    .dataframe thead th {\n",
       "        text-align: right;\n",
       "    }\n",
       "</style>\n",
       "<table border=\"1\" class=\"dataframe\">\n",
       "  <thead>\n",
       "    <tr style=\"text-align: right;\">\n",
       "      <th></th>\n",
       "      <th>sop_instance_uid</th>\n",
       "      <th>patient_id</th>\n",
       "      <th>study_instance_uid</th>\n",
       "      <th>series_instance_uid</th>\n",
       "      <th>filename</th>\n",
       "      <th>set</th>\n",
       "    </tr>\n",
       "  </thead>\n",
       "  <tbody>\n",
       "    <tr>\n",
       "      <th>0</th>\n",
       "      <td>ID_ff816e9b6</td>\n",
       "      <td>ID_b14d854e</td>\n",
       "      <td>ID_c65a8f2f00</td>\n",
       "      <td>ID_79d2473b55</td>\n",
       "      <td>ID_ff816e9b6.dcm</td>\n",
       "      <td>1</td>\n",
       "    </tr>\n",
       "    <tr>\n",
       "      <th>1</th>\n",
       "      <td>ID_282a7f3cd</td>\n",
       "      <td>ID_79cf35b0</td>\n",
       "      <td>ID_9ee24d714d</td>\n",
       "      <td>ID_fe49a86511</td>\n",
       "      <td>ID_282a7f3cd.dcm</td>\n",
       "      <td>1</td>\n",
       "    </tr>\n",
       "    <tr>\n",
       "      <th>2</th>\n",
       "      <td>ID_f1c65b76e</td>\n",
       "      <td>ID_43dd2890</td>\n",
       "      <td>ID_43af13416f</td>\n",
       "      <td>ID_143018582f</td>\n",
       "      <td>ID_f1c65b76e.dcm</td>\n",
       "      <td>1</td>\n",
       "    </tr>\n",
       "  </tbody>\n",
       "</table>\n",
       "</div>"
      ],
      "text/plain": [
       "  sop_instance_uid   patient_id study_instance_uid series_instance_uid  \\\n",
       "0     ID_ff816e9b6  ID_b14d854e      ID_c65a8f2f00       ID_79d2473b55   \n",
       "1     ID_282a7f3cd  ID_79cf35b0      ID_9ee24d714d       ID_fe49a86511   \n",
       "2     ID_f1c65b76e  ID_43dd2890      ID_43af13416f       ID_143018582f   \n",
       "\n",
       "           filename  set  \n",
       "0  ID_ff816e9b6.dcm    1  \n",
       "1  ID_282a7f3cd.dcm    1  \n",
       "2  ID_f1c65b76e.dcm    1  "
      ]
     },
     "execution_count": 3,
     "metadata": {},
     "output_type": "execute_result"
    }
   ],
   "source": [
    "# usecols = ['ID', 'Label', 'Sub_type', 'PatientID']\n",
    "\n",
    "usecols = [\"sop_instance_uid\", \"patient_id\", \"study_instance_uid\", \"series_instance_uid\", \"filename\"]\n",
    "\n",
    "#train_metadata = pd.read_csv(input_dir + \"stage_1_metadata.csv\", usecols = usecols)\n",
    "\n",
    "train_metadata = pd.read_csv(input_dir + \"df_dicom_metadata_train.csv\", usecols = usecols)\n",
    "train_metadata[\"filename\"] = train_metadata[\"filename\"].apply(lambda x: x.split(\"/\")[-1])\n",
    "train_metadata[\"set\"] = 1\n",
    "print(train_metadata.shape)\n",
    "train_metadata.head(3)"
   ]
  },
  {
   "cell_type": "code",
   "execution_count": 4,
   "metadata": {
    "ExecuteTime": {
     "end_time": "2019-10-03T14:57:40.013451Z",
     "start_time": "2019-10-03T14:57:39.655006Z"
    }
   },
   "outputs": [
    {
     "data": {
      "image/png": "[encoded data removed]",
      "text/plain": [
       "<Figure size 432x288 with 1 Axes>"
      ]
     },
     "metadata": {
      "needs_background": "light"
     },
     "output_type": "display_data"
    }
   ],
   "source": [
    "tmp = train_metadata[\"patient_id\"].value_counts()\n",
    "tmp[tmp<100].hist(bins=50);"
   ]
  },
  {
   "cell_type": "code",
   "execution_count": 5,
   "metadata": {
    "ExecuteTime": {
     "end_time": "2019-10-03T14:57:40.419603Z",
     "start_time": "2019-10-03T14:57:40.014855Z"
    }
   },
   "outputs": [
    {
     "name": "stdout",
     "output_type": "stream",
     "text": [
      "(78545, 6)\n"
     ]
    },
    {
     "data": {
      "text/html": [
       "<div>\n",
       "<style scoped>\n",
       "    .dataframe tbody tr th:only-of-type {\n",
       "        vertical-align: middle;\n",
       "    }\n",
       "\n",
       "    .dataframe tbody tr th {\n",
       "        vertical-align: top;\n",
       "    }\n",
       "\n",
       "    .dataframe thead th {\n",
       "        text-align: right;\n",
       "    }\n",
       "</style>\n",
       "<table border=\"1\" class=\"dataframe\">\n",
       "  <thead>\n",
       "    <tr style=\"text-align: right;\">\n",
       "      <th></th>\n",
       "      <th>sop_instance_uid</th>\n",
       "      <th>patient_id</th>\n",
       "      <th>study_instance_uid</th>\n",
       "      <th>series_instance_uid</th>\n",
       "      <th>filename</th>\n",
       "      <th>set</th>\n",
       "    </tr>\n",
       "  </thead>\n",
       "  <tbody>\n",
       "    <tr>\n",
       "      <th>0</th>\n",
       "      <td>ID_cec48be98</td>\n",
       "      <td>ID_02159492</td>\n",
       "      <td>ID_6d53e6b7a1</td>\n",
       "      <td>ID_8a81168925</td>\n",
       "      <td>ID_ff816e9b6.dcm</td>\n",
       "      <td>0</td>\n",
       "    </tr>\n",
       "    <tr>\n",
       "      <th>1</th>\n",
       "      <td>ID_24499006f</td>\n",
       "      <td>ID_d11a0081</td>\n",
       "      <td>ID_816f37dbe8</td>\n",
       "      <td>ID_d06566b389</td>\n",
       "      <td>ID_282a7f3cd.dcm</td>\n",
       "      <td>0</td>\n",
       "    </tr>\n",
       "    <tr>\n",
       "      <th>2</th>\n",
       "      <td>ID_398dc0001</td>\n",
       "      <td>ID_c4cc9737</td>\n",
       "      <td>ID_5f64ee7147</td>\n",
       "      <td>ID_ffa52dd6f4</td>\n",
       "      <td>ID_f1c65b76e.dcm</td>\n",
       "      <td>0</td>\n",
       "    </tr>\n",
       "  </tbody>\n",
       "</table>\n",
       "</div>"
      ],
      "text/plain": [
       "  sop_instance_uid   patient_id study_instance_uid series_instance_uid  \\\n",
       "0     ID_cec48be98  ID_02159492      ID_6d53e6b7a1       ID_8a81168925   \n",
       "1     ID_24499006f  ID_d11a0081      ID_816f37dbe8       ID_d06566b389   \n",
       "2     ID_398dc0001  ID_c4cc9737      ID_5f64ee7147       ID_ffa52dd6f4   \n",
       "\n",
       "           filename  set  \n",
       "0  ID_ff816e9b6.dcm    0  \n",
       "1  ID_282a7f3cd.dcm    0  \n",
       "2  ID_f1c65b76e.dcm    0  "
      ]
     },
     "execution_count": 5,
     "metadata": {},
     "output_type": "execute_result"
    }
   ],
   "source": [
    "test_metadata = pd.read_csv(input_dir + \"df_dicom_metadata_test.csv\", usecols = usecols)\n",
    "test_metadata[\"filename\"] = train_metadata[\"filename\"].apply(lambda x: x.split(\"/\")[-1])\n",
    "test_metadata[\"set\"] = 0\n",
    "print(test_metadata.shape)\n",
    "test_metadata.head(3)"
   ]
  },
  {
   "cell_type": "code",
   "execution_count": 6,
   "metadata": {
    "ExecuteTime": {
     "end_time": "2019-10-03T14:57:40.467695Z",
     "start_time": "2019-10-03T14:57:40.420904Z"
    }
   },
   "outputs": [
    {
     "name": "stdout",
     "output_type": "stream",
     "text": [
      "17079 2144\n"
     ]
    }
   ],
   "source": [
    "patient_id_train = set(train_metadata[\"patient_id\"].unique())\n",
    "patient_id_test = set(test_metadata[\"patient_id\"].unique())\n",
    "print(len(patient_id_train), len(patient_id_test))"
   ]
  },
  {
   "cell_type": "code",
   "execution_count": 7,
   "metadata": {
    "ExecuteTime": {
     "end_time": "2019-10-03T14:57:40.472109Z",
     "start_time": "2019-10-03T14:57:40.469059Z"
    }
   },
   "outputs": [
    {
     "data": {
      "text/plain": [
       "285"
      ]
     },
     "execution_count": 7,
     "metadata": {},
     "output_type": "execute_result"
    }
   ],
   "source": [
    "patient_id_dup = patient_id_train.intersection(patient_id_test)\n",
    "len(patient_id_dup)"
   ]
  },
  {
   "cell_type": "markdown",
   "metadata": {},
   "source": [
    "# Split"
   ]
  },
  {
   "cell_type": "code",
   "execution_count": 8,
   "metadata": {
    "ExecuteTime": {
     "end_time": "2019-10-03T14:57:42.606157Z",
     "start_time": "2019-10-03T14:57:40.474332Z"
    }
   },
   "outputs": [
    {
     "name": "stdout",
     "output_type": "stream",
     "text": [
      "(4045572, 2)\n"
     ]
    },
    {
     "data": {
      "text/html": [
       "<div>\n",
       "<style scoped>\n",
       "    .dataframe tbody tr th:only-of-type {\n",
       "        vertical-align: middle;\n",
       "    }\n",
       "\n",
       "    .dataframe tbody tr th {\n",
       "        vertical-align: top;\n",
       "    }\n",
       "\n",
       "    .dataframe thead th {\n",
       "        text-align: right;\n",
       "    }\n",
       "</style>\n",
       "<table border=\"1\" class=\"dataframe\">\n",
       "  <thead>\n",
       "    <tr style=\"text-align: right;\">\n",
       "      <th></th>\n",
       "      <th>ID</th>\n",
       "      <th>Label</th>\n",
       "    </tr>\n",
       "  </thead>\n",
       "  <tbody>\n",
       "    <tr>\n",
       "      <th>0</th>\n",
       "      <td>ID_63eb1e259_epidural</td>\n",
       "      <td>0</td>\n",
       "    </tr>\n",
       "    <tr>\n",
       "      <th>1</th>\n",
       "      <td>ID_63eb1e259_intraparenchymal</td>\n",
       "      <td>0</td>\n",
       "    </tr>\n",
       "    <tr>\n",
       "      <th>2</th>\n",
       "      <td>ID_63eb1e259_intraventricular</td>\n",
       "      <td>0</td>\n",
       "    </tr>\n",
       "  </tbody>\n",
       "</table>\n",
       "</div>"
      ],
      "text/plain": [
       "                              ID  Label\n",
       "0          ID_63eb1e259_epidural      0\n",
       "1  ID_63eb1e259_intraparenchymal      0\n",
       "2  ID_63eb1e259_intraventricular      0"
      ]
     },
     "execution_count": 8,
     "metadata": {},
     "output_type": "execute_result"
    }
   ],
   "source": [
    "df = pd.read_csv(\"../input/stage_1_train.csv\")\n",
    "print(df.shape)\n",
    "df.head(3)"
   ]
  },
  {
   "cell_type": "code",
   "execution_count": 9,
   "metadata": {
    "ExecuteTime": {
     "end_time": "2019-10-03T14:57:44.571439Z",
     "start_time": "2019-10-03T14:57:42.608685Z"
    }
   },
   "outputs": [
    {
     "name": "stdout",
     "output_type": "stream",
     "text": [
      "(4045548, 2)\n"
     ]
    }
   ],
   "source": [
    "df = df.drop_duplicates(subset='ID', keep=\"first\")\n",
    "print(df.shape)"
   ]
  },
  {
   "cell_type": "code",
   "execution_count": 10,
   "metadata": {
    "ExecuteTime": {
     "end_time": "2019-10-03T14:57:47.432788Z",
     "start_time": "2019-10-03T14:57:44.572858Z"
    }
   },
   "outputs": [
    {
     "data": {
      "text/html": [
       "<div>\n",
       "<style scoped>\n",
       "    .dataframe tbody tr th:only-of-type {\n",
       "        vertical-align: middle;\n",
       "    }\n",
       "\n",
       "    .dataframe tbody tr th {\n",
       "        vertical-align: top;\n",
       "    }\n",
       "\n",
       "    .dataframe thead th {\n",
       "        text-align: right;\n",
       "    }\n",
       "</style>\n",
       "<table border=\"1\" class=\"dataframe\">\n",
       "  <thead>\n",
       "    <tr style=\"text-align: right;\">\n",
       "      <th></th>\n",
       "      <th>ID</th>\n",
       "      <th>Label</th>\n",
       "      <th>sop_instance_uid</th>\n",
       "      <th>SubType</th>\n",
       "    </tr>\n",
       "  </thead>\n",
       "  <tbody>\n",
       "    <tr>\n",
       "      <th>4045569</th>\n",
       "      <td>ID_5c8b5d701_subarachnoid</td>\n",
       "      <td>1</td>\n",
       "      <td>ID_5c8b5d701</td>\n",
       "      <td>subarachnoid</td>\n",
       "    </tr>\n",
       "    <tr>\n",
       "      <th>4045570</th>\n",
       "      <td>ID_5c8b5d701_subdural</td>\n",
       "      <td>1</td>\n",
       "      <td>ID_5c8b5d701</td>\n",
       "      <td>subdural</td>\n",
       "    </tr>\n",
       "    <tr>\n",
       "      <th>4045571</th>\n",
       "      <td>ID_5c8b5d701_any</td>\n",
       "      <td>1</td>\n",
       "      <td>ID_5c8b5d701</td>\n",
       "      <td>any</td>\n",
       "    </tr>\n",
       "  </tbody>\n",
       "</table>\n",
       "</div>"
      ],
      "text/plain": [
       "                                ID  Label sop_instance_uid       SubType\n",
       "4045569  ID_5c8b5d701_subarachnoid      1     ID_5c8b5d701  subarachnoid\n",
       "4045570      ID_5c8b5d701_subdural      1     ID_5c8b5d701      subdural\n",
       "4045571           ID_5c8b5d701_any      1     ID_5c8b5d701           any"
      ]
     },
     "execution_count": 10,
     "metadata": {},
     "output_type": "execute_result"
    }
   ],
   "source": [
    "df[\"sop_instance_uid\"] = df[\"ID\"].apply(lambda x: \"ID_\" + x.split('_')[1])\n",
    "df[\"SubType\"] = df['ID'].apply(lambda x: x.split('_')[2])\n",
    "df.tail(3)"
   ]
  },
  {
   "cell_type": "code",
   "execution_count": 11,
   "metadata": {
    "ExecuteTime": {
     "end_time": "2019-10-03T14:57:48.234564Z",
     "start_time": "2019-10-03T14:57:47.434095Z"
    }
   },
   "outputs": [
    {
     "name": "stdout",
     "output_type": "stream",
     "text": [
      "(4045548, 4)\n",
      "(4045542, 4)\n"
     ]
    }
   ],
   "source": [
    "IGNORE_IDS = ['ID_6431af929']\n",
    "print(df.shape)\n",
    "df = df[~df['sop_instance_uid'].isin(IGNORE_IDS)]\n",
    "print(df.shape)"
   ]
  },
  {
   "cell_type": "code",
   "execution_count": 12,
   "metadata": {
    "ExecuteTime": {
     "end_time": "2019-10-03T14:57:50.611081Z",
     "start_time": "2019-10-03T14:57:48.236834Z"
    }
   },
   "outputs": [
    {
     "data": {
      "text/html": [
       "<div>\n",
       "<style scoped>\n",
       "    .dataframe tbody tr th:only-of-type {\n",
       "        vertical-align: middle;\n",
       "    }\n",
       "\n",
       "    .dataframe tbody tr th {\n",
       "        vertical-align: top;\n",
       "    }\n",
       "\n",
       "    .dataframe thead th {\n",
       "        text-align: right;\n",
       "    }\n",
       "</style>\n",
       "<table border=\"1\" class=\"dataframe\">\n",
       "  <thead>\n",
       "    <tr style=\"text-align: right;\">\n",
       "      <th></th>\n",
       "      <th>sop_instance_uid</th>\n",
       "      <th>sum</th>\n",
       "      <th>count</th>\n",
       "    </tr>\n",
       "  </thead>\n",
       "  <tbody>\n",
       "    <tr>\n",
       "      <th>0</th>\n",
       "      <td>ID_000039fa0</td>\n",
       "      <td>0</td>\n",
       "      <td>6</td>\n",
       "    </tr>\n",
       "    <tr>\n",
       "      <th>1</th>\n",
       "      <td>ID_00005679d</td>\n",
       "      <td>0</td>\n",
       "      <td>6</td>\n",
       "    </tr>\n",
       "    <tr>\n",
       "      <th>2</th>\n",
       "      <td>ID_00008ce3c</td>\n",
       "      <td>0</td>\n",
       "      <td>6</td>\n",
       "    </tr>\n",
       "  </tbody>\n",
       "</table>\n",
       "</div>"
      ],
      "text/plain": [
       "  sop_instance_uid  sum  count\n",
       "0     ID_000039fa0    0      6\n",
       "1     ID_00005679d    0      6\n",
       "2     ID_00008ce3c    0      6"
      ]
     },
     "execution_count": 12,
     "metadata": {},
     "output_type": "execute_result"
    }
   ],
   "source": [
    "df_dup = df.groupby(['sop_instance_uid'], as_index=False).agg({\"Label\": [\"sum\", \"count\"]})\n",
    "df_dup.columns = [\"sop_instance_uid\", \"sum\", \"count\"]\n",
    "df_dup.head(3)"
   ]
  },
  {
   "cell_type": "code",
   "execution_count": 13,
   "metadata": {
    "ExecuteTime": {
     "end_time": "2019-10-03T14:57:50.672429Z",
     "start_time": "2019-10-03T14:57:50.612907Z"
    }
   },
   "outputs": [
    {
     "name": "stdout",
     "output_type": "stream",
     "text": [
      "0\n"
     ]
    },
    {
     "data": {
      "text/html": [
       "<div>\n",
       "<style scoped>\n",
       "    .dataframe tbody tr th:only-of-type {\n",
       "        vertical-align: middle;\n",
       "    }\n",
       "\n",
       "    .dataframe tbody tr th {\n",
       "        vertical-align: top;\n",
       "    }\n",
       "\n",
       "    .dataframe thead th {\n",
       "        text-align: right;\n",
       "    }\n",
       "</style>\n",
       "<table border=\"1\" class=\"dataframe\">\n",
       "  <thead>\n",
       "    <tr style=\"text-align: right;\">\n",
       "      <th></th>\n",
       "      <th>ID</th>\n",
       "      <th>Label</th>\n",
       "      <th>sop_instance_uid</th>\n",
       "      <th>SubType</th>\n",
       "    </tr>\n",
       "  </thead>\n",
       "  <tbody>\n",
       "  </tbody>\n",
       "</table>\n",
       "</div>"
      ],
      "text/plain": [
       "Empty DataFrame\n",
       "Columns: [ID, Label, sop_instance_uid, SubType]\n",
       "Index: []"
      ]
     },
     "execution_count": 13,
     "metadata": {},
     "output_type": "execute_result"
    }
   ],
   "source": [
    "dup_images = list(df_dup[df_dup[\"count\"] > 6][\"sop_instance_uid\"])\n",
    "print(len(dup_images))\n",
    "df[df[\"sop_instance_uid\"].isin(dup_images)]"
   ]
  },
  {
   "cell_type": "code",
   "execution_count": 14,
   "metadata": {
    "ExecuteTime": {
     "end_time": "2019-10-03T14:57:55.213927Z",
     "start_time": "2019-10-03T14:57:50.673871Z"
    }
   },
   "outputs": [
    {
     "name": "stdout",
     "output_type": "stream",
     "text": [
      "(674257, 7)\n"
     ]
    },
    {
     "data": {
      "text/html": [
       "<div>\n",
       "<style scoped>\n",
       "    .dataframe tbody tr th:only-of-type {\n",
       "        vertical-align: middle;\n",
       "    }\n",
       "\n",
       "    .dataframe tbody tr th {\n",
       "        vertical-align: top;\n",
       "    }\n",
       "\n",
       "    .dataframe thead th {\n",
       "        text-align: right;\n",
       "    }\n",
       "</style>\n",
       "<table border=\"1\" class=\"dataframe\">\n",
       "  <thead>\n",
       "    <tr style=\"text-align: right;\">\n",
       "      <th>SubType</th>\n",
       "      <th>sop_instance_uid</th>\n",
       "      <th>any</th>\n",
       "      <th>epidural</th>\n",
       "      <th>intraparenchymal</th>\n",
       "      <th>intraventricular</th>\n",
       "      <th>subarachnoid</th>\n",
       "      <th>subdural</th>\n",
       "    </tr>\n",
       "  </thead>\n",
       "  <tbody>\n",
       "    <tr>\n",
       "      <th>0</th>\n",
       "      <td>ID_000039fa0</td>\n",
       "      <td>0</td>\n",
       "      <td>0</td>\n",
       "      <td>0</td>\n",
       "      <td>0</td>\n",
       "      <td>0</td>\n",
       "      <td>0</td>\n",
       "    </tr>\n",
       "    <tr>\n",
       "      <th>1</th>\n",
       "      <td>ID_00005679d</td>\n",
       "      <td>0</td>\n",
       "      <td>0</td>\n",
       "      <td>0</td>\n",
       "      <td>0</td>\n",
       "      <td>0</td>\n",
       "      <td>0</td>\n",
       "    </tr>\n",
       "    <tr>\n",
       "      <th>2</th>\n",
       "      <td>ID_00008ce3c</td>\n",
       "      <td>0</td>\n",
       "      <td>0</td>\n",
       "      <td>0</td>\n",
       "      <td>0</td>\n",
       "      <td>0</td>\n",
       "      <td>0</td>\n",
       "    </tr>\n",
       "  </tbody>\n",
       "</table>\n",
       "</div>"
      ],
      "text/plain": [
       "SubType sop_instance_uid  any  epidural  intraparenchymal  intraventricular  \\\n",
       "0           ID_000039fa0    0         0                 0                 0   \n",
       "1           ID_00005679d    0         0                 0                 0   \n",
       "2           ID_00008ce3c    0         0                 0                 0   \n",
       "\n",
       "SubType  subarachnoid  subdural  \n",
       "0                   0         0  \n",
       "1                   0         0  \n",
       "2                   0         0  "
      ]
     },
     "execution_count": 14,
     "metadata": {},
     "output_type": "execute_result"
    }
   ],
   "source": [
    "df = df.pivot(index='sop_instance_uid', columns='SubType', values='Label').reset_index()\n",
    "print(df.shape)\n",
    "df.head(3)"
   ]
  },
  {
   "cell_type": "code",
   "execution_count": 15,
   "metadata": {
    "ExecuteTime": {
     "end_time": "2019-10-03T14:57:55.950162Z",
     "start_time": "2019-10-03T14:57:55.215349Z"
    }
   },
   "outputs": [],
   "source": [
    "df = pd.merge(df, train_metadata[[\"sop_instance_uid\", \"patient_id\"]])"
   ]
  },
  {
   "cell_type": "code",
   "execution_count": 21,
   "metadata": {
    "ExecuteTime": {
     "end_time": "2019-10-09T13:35:10.924256Z",
     "start_time": "2019-10-09T13:35:10.919850Z"
    }
   },
   "outputs": [],
   "source": [
    "output_dir = \"../csv/\""
   ]
  },
  {
   "cell_type": "code",
   "execution_count": 17,
   "metadata": {
    "ExecuteTime": {
     "end_time": "2019-10-03T14:57:56.203499Z",
     "start_time": "2019-10-03T14:57:55.955207Z"
    }
   },
   "outputs": [],
   "source": [
    "!mkdir -p $output_dir"
   ]
  },
  {
   "cell_type": "markdown",
   "metadata": {},
   "source": [
    "# Splits\n",
    "TODO - StratifiedKFold based on labels"
   ]
  },
  {
   "cell_type": "raw",
   "metadata": {
    "ExecuteTime": {
     "end_time": "2019-10-02T11:42:40.117563Z",
     "start_time": "2019-10-02T11:42:39.954807Z"
    }
   },
   "source": [
    "patient_id = df[\"patient_id\"].unique()\n",
    "print(patient_id.shape)\n",
    "patient_id"
   ]
  },
  {
   "cell_type": "code",
   "execution_count": 18,
   "metadata": {
    "ExecuteTime": {
     "end_time": "2019-10-03T14:57:56.225102Z",
     "start_time": "2019-10-03T14:57:56.208467Z"
    }
   },
   "outputs": [
    {
     "name": "stdout",
     "output_type": "stream",
     "text": [
      "17079 16794\n"
     ]
    }
   ],
   "source": [
    "patient_id = patient_id_train.difference(patient_id_test)\n",
    "print(len(patient_id_train), len(patient_id))\n",
    "\n",
    "patient_id = np.array(list(patient_id))"
   ]
  },
  {
   "cell_type": "code",
   "execution_count": 19,
   "metadata": {
    "ExecuteTime": {
     "end_time": "2019-10-03T14:58:17.069129Z",
     "start_time": "2019-10-03T14:57:56.227591Z"
    }
   },
   "outputs": [
    {
     "name": "stdout",
     "output_type": "stream",
     "text": [
      "(131308, 8)\n",
      "(130796, 8)\n",
      "(131887, 8)\n",
      "(131887, 8)\n",
      "(131825, 8)\n"
     ]
    }
   ],
   "source": [
    "from sklearn.model_selection import KFold\n",
    "\n",
    "seed = 2020\n",
    "n_splits = 5\n",
    "kf = KFold(n_splits=n_splits, shuffle=True, random_state=seed) # StratifiedKFold\n",
    "\n",
    "fold = 0\n",
    "for train_index, valid_index in kf.split(patient_id):\n",
    "    df_train = df[df[\"patient_id\"].isin(patient_id[train_index])]\n",
    "    df_valid = df[df[\"patient_id\"].isin(patient_id[valid_index])]\n",
    "    \n",
    "    df_train.to_csv(output_dir + \"train_{}.csv\".format(fold), index=None)\n",
    "    df_valid.to_csv(output_dir + \"valid_{}.csv\".format(fold), index=None)\n",
    "    \n",
    "    fold += 1\n",
    "    print(df_valid.shape)"
   ]
  },
  {
   "cell_type": "code",
   "execution_count": 20,
   "metadata": {
    "ExecuteTime": {
     "end_time": "2019-10-03T14:58:17.283479Z",
     "start_time": "2019-10-03T14:58:17.073938Z"
    }
   },
   "outputs": [
    {
     "name": "stdout",
     "output_type": "stream",
     "text": [
      "sop_instance_uid,any,epidural,intraparenchymal,intraventricular,subarachnoid,subdural,patient_id\r\n",
      "ID_000039fa0,0,0,0,0,0,0,ID_eeaf99e7\r\n",
      "ID_00005679d,0,0,0,0,0,0,ID_18f2d431\r\n"
     ]
    }
   ],
   "source": [
    "!head -3 $output_dir/train_0.csv"
   ]
  },
  {
   "cell_type": "markdown",
   "metadata": {},
   "source": [
    "# Test set"
   ]
  },
  {
   "cell_type": "code",
   "execution_count": 14,
   "metadata": {
    "ExecuteTime": {
     "end_time": "2019-10-09T13:34:49.477975Z",
     "start_time": "2019-10-09T13:34:49.142688Z"
    }
   },
   "outputs": [
    {
     "name": "stdout",
     "output_type": "stream",
     "text": [
      "(471270, 2)\n"
     ]
    },
    {
     "data": {
      "text/html": [
       "<div>\n",
       "<style scoped>\n",
       "    .dataframe tbody tr th:only-of-type {\n",
       "        vertical-align: middle;\n",
       "    }\n",
       "\n",
       "    .dataframe tbody tr th {\n",
       "        vertical-align: top;\n",
       "    }\n",
       "\n",
       "    .dataframe thead th {\n",
       "        text-align: right;\n",
       "    }\n",
       "</style>\n",
       "<table border=\"1\" class=\"dataframe\">\n",
       "  <thead>\n",
       "    <tr style=\"text-align: right;\">\n",
       "      <th></th>\n",
       "      <th>ID</th>\n",
       "      <th>Label</th>\n",
       "    </tr>\n",
       "  </thead>\n",
       "  <tbody>\n",
       "    <tr>\n",
       "      <th>0</th>\n",
       "      <td>ID_28fbab7eb_epidural</td>\n",
       "      <td>0.5</td>\n",
       "    </tr>\n",
       "    <tr>\n",
       "      <th>1</th>\n",
       "      <td>ID_28fbab7eb_intraparenchymal</td>\n",
       "      <td>0.5</td>\n",
       "    </tr>\n",
       "    <tr>\n",
       "      <th>2</th>\n",
       "      <td>ID_28fbab7eb_intraventricular</td>\n",
       "      <td>0.5</td>\n",
       "    </tr>\n",
       "  </tbody>\n",
       "</table>\n",
       "</div>"
      ],
      "text/plain": [
       "                              ID  Label\n",
       "0          ID_28fbab7eb_epidural    0.5\n",
       "1  ID_28fbab7eb_intraparenchymal    0.5\n",
       "2  ID_28fbab7eb_intraventricular    0.5"
      ]
     },
     "execution_count": 14,
     "metadata": {},
     "output_type": "execute_result"
    }
   ],
   "source": [
    "df_test = pd.read_csv(\"../input/stage_1_sample_submission.csv\")\n",
    "print(df_test.shape)\n",
    "df_test.head(3)"
   ]
  },
  {
   "cell_type": "code",
   "execution_count": 15,
   "metadata": {
    "ExecuteTime": {
     "end_time": "2019-10-09T13:34:49.690813Z",
     "start_time": "2019-10-09T13:34:49.479767Z"
    }
   },
   "outputs": [
    {
     "name": "stdout",
     "output_type": "stream",
     "text": [
      "(471270, 2)\n"
     ]
    }
   ],
   "source": [
    "df_test = df_test.drop_duplicates(subset='ID', keep=\"first\")\n",
    "print(df_test.shape)"
   ]
  },
  {
   "cell_type": "code",
   "execution_count": 16,
   "metadata": {
    "ExecuteTime": {
     "end_time": "2019-10-09T13:34:49.980414Z",
     "start_time": "2019-10-09T13:34:49.693462Z"
    }
   },
   "outputs": [
    {
     "name": "stdout",
     "output_type": "stream",
     "text": [
      "(78545, 6)\n"
     ]
    },
    {
     "data": {
      "text/html": [
       "<div>\n",
       "<style scoped>\n",
       "    .dataframe tbody tr th:only-of-type {\n",
       "        vertical-align: middle;\n",
       "    }\n",
       "\n",
       "    .dataframe tbody tr th {\n",
       "        vertical-align: top;\n",
       "    }\n",
       "\n",
       "    .dataframe thead th {\n",
       "        text-align: right;\n",
       "    }\n",
       "</style>\n",
       "<table border=\"1\" class=\"dataframe\">\n",
       "  <thead>\n",
       "    <tr style=\"text-align: right;\">\n",
       "      <th></th>\n",
       "      <th>sop_instance_uid</th>\n",
       "      <th>patient_id</th>\n",
       "      <th>study_instance_uid</th>\n",
       "      <th>series_instance_uid</th>\n",
       "      <th>filename</th>\n",
       "      <th>set</th>\n",
       "    </tr>\n",
       "  </thead>\n",
       "  <tbody>\n",
       "    <tr>\n",
       "      <th>0</th>\n",
       "      <td>ID_cec48be98</td>\n",
       "      <td>ID_02159492</td>\n",
       "      <td>ID_6d53e6b7a1</td>\n",
       "      <td>ID_8a81168925</td>\n",
       "      <td>ID_cec48be98.dcm</td>\n",
       "      <td>0</td>\n",
       "    </tr>\n",
       "    <tr>\n",
       "      <th>1</th>\n",
       "      <td>ID_24499006f</td>\n",
       "      <td>ID_d11a0081</td>\n",
       "      <td>ID_816f37dbe8</td>\n",
       "      <td>ID_d06566b389</td>\n",
       "      <td>ID_24499006f.dcm</td>\n",
       "      <td>0</td>\n",
       "    </tr>\n",
       "    <tr>\n",
       "      <th>2</th>\n",
       "      <td>ID_398dc0001</td>\n",
       "      <td>ID_c4cc9737</td>\n",
       "      <td>ID_5f64ee7147</td>\n",
       "      <td>ID_ffa52dd6f4</td>\n",
       "      <td>ID_398dc0001.dcm</td>\n",
       "      <td>0</td>\n",
       "    </tr>\n",
       "  </tbody>\n",
       "</table>\n",
       "</div>"
      ],
      "text/plain": [
       "  sop_instance_uid   patient_id study_instance_uid series_instance_uid  \\\n",
       "0     ID_cec48be98  ID_02159492      ID_6d53e6b7a1       ID_8a81168925   \n",
       "1     ID_24499006f  ID_d11a0081      ID_816f37dbe8       ID_d06566b389   \n",
       "2     ID_398dc0001  ID_c4cc9737      ID_5f64ee7147       ID_ffa52dd6f4   \n",
       "\n",
       "           filename  set  \n",
       "0  ID_cec48be98.dcm    0  \n",
       "1  ID_24499006f.dcm    0  \n",
       "2  ID_398dc0001.dcm    0  "
      ]
     },
     "execution_count": 16,
     "metadata": {},
     "output_type": "execute_result"
    }
   ],
   "source": [
    "test_metadata = pd.read_csv(input_dir + \"df_dicom_metadata_test.csv\", usecols = usecols)\n",
    "test_metadata[\"filename\"] = test_metadata[\"filename\"].apply(lambda x: x.split(\"/\")[-1])\n",
    "test_metadata[\"set\"] = 0\n",
    "print(test_metadata.shape)\n",
    "test_metadata.head(3)"
   ]
  },
  {
   "cell_type": "code",
   "execution_count": 17,
   "metadata": {
    "ExecuteTime": {
     "end_time": "2019-10-09T13:34:50.354203Z",
     "start_time": "2019-10-09T13:34:49.982102Z"
    }
   },
   "outputs": [
    {
     "data": {
      "text/html": [
       "<div>\n",
       "<style scoped>\n",
       "    .dataframe tbody tr th:only-of-type {\n",
       "        vertical-align: middle;\n",
       "    }\n",
       "\n",
       "    .dataframe tbody tr th {\n",
       "        vertical-align: top;\n",
       "    }\n",
       "\n",
       "    .dataframe thead th {\n",
       "        text-align: right;\n",
       "    }\n",
       "</style>\n",
       "<table border=\"1\" class=\"dataframe\">\n",
       "  <thead>\n",
       "    <tr style=\"text-align: right;\">\n",
       "      <th></th>\n",
       "      <th>ID</th>\n",
       "      <th>Label</th>\n",
       "      <th>sop_instance_uid</th>\n",
       "      <th>SubType</th>\n",
       "    </tr>\n",
       "  </thead>\n",
       "  <tbody>\n",
       "    <tr>\n",
       "      <th>471267</th>\n",
       "      <td>ID_d47269109_subarachnoid</td>\n",
       "      <td>0.5</td>\n",
       "      <td>ID_d47269109</td>\n",
       "      <td>subarachnoid</td>\n",
       "    </tr>\n",
       "    <tr>\n",
       "      <th>471268</th>\n",
       "      <td>ID_d47269109_subdural</td>\n",
       "      <td>0.5</td>\n",
       "      <td>ID_d47269109</td>\n",
       "      <td>subdural</td>\n",
       "    </tr>\n",
       "    <tr>\n",
       "      <th>471269</th>\n",
       "      <td>ID_d47269109_any</td>\n",
       "      <td>0.5</td>\n",
       "      <td>ID_d47269109</td>\n",
       "      <td>any</td>\n",
       "    </tr>\n",
       "  </tbody>\n",
       "</table>\n",
       "</div>"
      ],
      "text/plain": [
       "                               ID  Label sop_instance_uid       SubType\n",
       "471267  ID_d47269109_subarachnoid    0.5     ID_d47269109  subarachnoid\n",
       "471268      ID_d47269109_subdural    0.5     ID_d47269109      subdural\n",
       "471269           ID_d47269109_any    0.5     ID_d47269109           any"
      ]
     },
     "execution_count": 17,
     "metadata": {},
     "output_type": "execute_result"
    }
   ],
   "source": [
    "df_test[\"sop_instance_uid\"] = df_test[\"ID\"].apply(lambda x: \"ID_\" + x.split('_')[1])\n",
    "df_test[\"SubType\"] = df_test['ID'].apply(lambda x: x.split('_')[2])\n",
    "df_test.tail(3)"
   ]
  },
  {
   "cell_type": "code",
   "execution_count": 18,
   "metadata": {
    "ExecuteTime": {
     "end_time": "2019-10-09T13:34:50.758352Z",
     "start_time": "2019-10-09T13:34:50.431410Z"
    }
   },
   "outputs": [
    {
     "name": "stdout",
     "output_type": "stream",
     "text": [
      "(78545, 7)\n"
     ]
    },
    {
     "data": {
      "text/html": [
       "<div>\n",
       "<style scoped>\n",
       "    .dataframe tbody tr th:only-of-type {\n",
       "        vertical-align: middle;\n",
       "    }\n",
       "\n",
       "    .dataframe tbody tr th {\n",
       "        vertical-align: top;\n",
       "    }\n",
       "\n",
       "    .dataframe thead th {\n",
       "        text-align: right;\n",
       "    }\n",
       "</style>\n",
       "<table border=\"1\" class=\"dataframe\">\n",
       "  <thead>\n",
       "    <tr style=\"text-align: right;\">\n",
       "      <th>SubType</th>\n",
       "      <th>sop_instance_uid</th>\n",
       "      <th>any</th>\n",
       "      <th>epidural</th>\n",
       "      <th>intraparenchymal</th>\n",
       "      <th>intraventricular</th>\n",
       "      <th>subarachnoid</th>\n",
       "      <th>subdural</th>\n",
       "    </tr>\n",
       "  </thead>\n",
       "  <tbody>\n",
       "    <tr>\n",
       "      <th>0</th>\n",
       "      <td>ID_000012eaf</td>\n",
       "      <td>0.5</td>\n",
       "      <td>0.5</td>\n",
       "      <td>0.5</td>\n",
       "      <td>0.5</td>\n",
       "      <td>0.5</td>\n",
       "      <td>0.5</td>\n",
       "    </tr>\n",
       "    <tr>\n",
       "      <th>1</th>\n",
       "      <td>ID_0000ca2f6</td>\n",
       "      <td>0.5</td>\n",
       "      <td>0.5</td>\n",
       "      <td>0.5</td>\n",
       "      <td>0.5</td>\n",
       "      <td>0.5</td>\n",
       "      <td>0.5</td>\n",
       "    </tr>\n",
       "    <tr>\n",
       "      <th>2</th>\n",
       "      <td>ID_000259ccf</td>\n",
       "      <td>0.5</td>\n",
       "      <td>0.5</td>\n",
       "      <td>0.5</td>\n",
       "      <td>0.5</td>\n",
       "      <td>0.5</td>\n",
       "      <td>0.5</td>\n",
       "    </tr>\n",
       "  </tbody>\n",
       "</table>\n",
       "</div>"
      ],
      "text/plain": [
       "SubType sop_instance_uid  any  epidural  intraparenchymal  intraventricular  \\\n",
       "0           ID_000012eaf  0.5       0.5               0.5               0.5   \n",
       "1           ID_0000ca2f6  0.5       0.5               0.5               0.5   \n",
       "2           ID_000259ccf  0.5       0.5               0.5               0.5   \n",
       "\n",
       "SubType  subarachnoid  subdural  \n",
       "0                 0.5       0.5  \n",
       "1                 0.5       0.5  \n",
       "2                 0.5       0.5  "
      ]
     },
     "execution_count": 18,
     "metadata": {},
     "output_type": "execute_result"
    }
   ],
   "source": [
    "df_test = df_test.pivot(index='sop_instance_uid', columns='SubType', values='Label').reset_index()\n",
    "print(df_test.shape)\n",
    "df_test.head(3)"
   ]
  },
  {
   "cell_type": "code",
   "execution_count": 19,
   "metadata": {
    "ExecuteTime": {
     "end_time": "2019-10-09T13:34:51.661393Z",
     "start_time": "2019-10-09T13:34:51.575667Z"
    }
   },
   "outputs": [
    {
     "data": {
      "text/html": [
       "<div>\n",
       "<style scoped>\n",
       "    .dataframe tbody tr th:only-of-type {\n",
       "        vertical-align: middle;\n",
       "    }\n",
       "\n",
       "    .dataframe tbody tr th {\n",
       "        vertical-align: top;\n",
       "    }\n",
       "\n",
       "    .dataframe thead th {\n",
       "        text-align: right;\n",
       "    }\n",
       "</style>\n",
       "<table border=\"1\" class=\"dataframe\">\n",
       "  <thead>\n",
       "    <tr style=\"text-align: right;\">\n",
       "      <th></th>\n",
       "      <th>sop_instance_uid</th>\n",
       "      <th>any</th>\n",
       "      <th>epidural</th>\n",
       "      <th>intraparenchymal</th>\n",
       "      <th>intraventricular</th>\n",
       "      <th>subarachnoid</th>\n",
       "      <th>subdural</th>\n",
       "      <th>patient_id</th>\n",
       "    </tr>\n",
       "  </thead>\n",
       "  <tbody>\n",
       "    <tr>\n",
       "      <th>0</th>\n",
       "      <td>ID_000012eaf</td>\n",
       "      <td>0.5</td>\n",
       "      <td>0.5</td>\n",
       "      <td>0.5</td>\n",
       "      <td>0.5</td>\n",
       "      <td>0.5</td>\n",
       "      <td>0.5</td>\n",
       "      <td>ID_f15c0eee</td>\n",
       "    </tr>\n",
       "    <tr>\n",
       "      <th>1</th>\n",
       "      <td>ID_0000ca2f6</td>\n",
       "      <td>0.5</td>\n",
       "      <td>0.5</td>\n",
       "      <td>0.5</td>\n",
       "      <td>0.5</td>\n",
       "      <td>0.5</td>\n",
       "      <td>0.5</td>\n",
       "      <td>ID_8c5a14af</td>\n",
       "    </tr>\n",
       "    <tr>\n",
       "      <th>2</th>\n",
       "      <td>ID_000259ccf</td>\n",
       "      <td>0.5</td>\n",
       "      <td>0.5</td>\n",
       "      <td>0.5</td>\n",
       "      <td>0.5</td>\n",
       "      <td>0.5</td>\n",
       "      <td>0.5</td>\n",
       "      <td>ID_ee4d05e4</td>\n",
       "    </tr>\n",
       "  </tbody>\n",
       "</table>\n",
       "</div>"
      ],
      "text/plain": [
       "  sop_instance_uid  any  epidural  intraparenchymal  intraventricular  \\\n",
       "0     ID_000012eaf  0.5       0.5               0.5               0.5   \n",
       "1     ID_0000ca2f6  0.5       0.5               0.5               0.5   \n",
       "2     ID_000259ccf  0.5       0.5               0.5               0.5   \n",
       "\n",
       "   subarachnoid  subdural   patient_id  \n",
       "0           0.5       0.5  ID_f15c0eee  \n",
       "1           0.5       0.5  ID_8c5a14af  \n",
       "2           0.5       0.5  ID_ee4d05e4  "
      ]
     },
     "execution_count": 19,
     "metadata": {},
     "output_type": "execute_result"
    }
   ],
   "source": [
    "df_test = pd.merge(df_test, test_metadata[[\"sop_instance_uid\", \"patient_id\"]])\n",
    "df_test.head(3)"
   ]
  },
  {
   "cell_type": "code",
   "execution_count": 22,
   "metadata": {
    "ExecuteTime": {
     "end_time": "2019-10-09T13:35:16.221260Z",
     "start_time": "2019-10-09T13:35:15.768867Z"
    }
   },
   "outputs": [
    {
     "data": {
      "text/plain": [
       "'../csv/test.csv'"
      ]
     },
     "execution_count": 22,
     "metadata": {},
     "output_type": "execute_result"
    }
   ],
   "source": [
    "df_test.to_csv(output_dir + \"test.csv\", index=None)\n",
    "output_dir + \"test.csv\""
   ]
  },
  {
   "cell_type": "markdown",
   "metadata": {},
   "source": [
    "# Play"
   ]
  },
  {
   "cell_type": "code",
   "execution_count": 28,
   "metadata": {
    "ExecuteTime": {
     "end_time": "2019-10-03T15:03:27.958077Z",
     "start_time": "2019-10-03T15:03:27.742407Z"
    }
   },
   "outputs": [
    {
     "data": {
      "text/plain": [
       "((657703, 8), (674257, 8), 285)"
      ]
     },
     "execution_count": 28,
     "metadata": {},
     "output_type": "execute_result"
    }
   ],
   "source": [
    "df[df[\"patient_id\"].isin(patient_id)].shape, df.shape, len(patient_id_dup)"
   ]
  },
  {
   "cell_type": "code",
   "execution_count": 29,
   "metadata": {
    "ExecuteTime": {
     "end_time": "2019-10-03T15:03:59.418656Z",
     "start_time": "2019-10-03T15:03:59.413358Z"
    }
   },
   "outputs": [
    {
     "data": {
      "text/plain": [
       "(16554, 58.084210526315786)"
      ]
     },
     "execution_count": 29,
     "metadata": {},
     "output_type": "execute_result"
    }
   ],
   "source": [
    "674257 - 657703, (674257 - 657703) / 285"
   ]
  }
 ],
 "metadata": {
  "kernelspec": {
   "display_name": "Python [conda env:gpu36]",
   "language": "python",
   "name": "conda-env-gpu36-py"
  },
  "language_info": {
   "codemirror_mode": {
    "name": "ipython",
    "version": 3
   },
   "file_extension": ".py",
   "mimetype": "text/x-python",
   "name": "python",
   "nbconvert_exporter": "python",
   "pygments_lexer": "ipython3",
   "version": "3.6.8"
  },
  "toc": {
   "base_numbering": 1,
   "nav_menu": {},
   "number_sections": true,
   "sideBar": true,
   "skip_h1_title": false,
   "title_cell": "Table of Contents",
   "title_sidebar": "Contents",
   "toc_cell": false,
   "toc_position": {
    "height": "calc(100% - 180px)",
    "left": "10px",
    "top": "150px",
    "width": "256px"
   },
   "toc_section_display": true,
   "toc_window_display": true
  }
 },
 "nbformat": 4,
 "nbformat_minor": 2
}
