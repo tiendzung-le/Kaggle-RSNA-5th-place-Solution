{
 "cells": [
  {
   "cell_type": "code",
   "execution_count": 1,
   "metadata": {
    "ExecuteTime": {
     "end_time": "2019-10-28T10:17:30.264456Z",
     "start_time": "2019-10-28T10:17:20.077780Z"
    }
   },
   "outputs": [],
   "source": [
    "from __future__ import print_function\n",
    "import sklearn\n",
    "import sklearn.datasets\n",
    "import sklearn.ensemble\n",
    "import pandas as pd\n",
    "import numpy as np\n",
    "# import h2o\n",
    "# from h2o.estimators.random_forest import H2ORandomForestEstimator\n",
    "# from h2o.estimators.gbm import H2OGradientBoostingEstimator\n",
    "\n",
    "np.random.seed(1)\n",
    "\n",
    "import datetime as dt\n",
    "pd.set_option('display.max_columns', 500)\n",
    "pd.set_option('display.max_rows', 500)\n",
    "import matplotlib as mpl\n",
    "import matplotlib.pyplot as plt\n",
    "import seaborn as sns\n",
    "import warnings\n",
    "warnings.filterwarnings('ignore')\n",
    "import pickle\n",
    "import re\n",
    "\n",
    "%matplotlib inline"
   ]
  },
  {
   "cell_type": "code",
   "execution_count": 2,
   "metadata": {
    "ExecuteTime": {
     "end_time": "2019-10-28T10:17:30.269077Z",
     "start_time": "2019-10-28T10:17:30.266721Z"
    }
   },
   "outputs": [],
   "source": [
    "input_dir = \"../input/\""
   ]
  },
  {
   "cell_type": "markdown",
   "metadata": {},
   "source": [
    "# Metadata"
   ]
  },
  {
   "cell_type": "code",
   "execution_count": 3,
   "metadata": {
    "ExecuteTime": {
     "end_time": "2019-10-28T10:17:32.818722Z",
     "start_time": "2019-10-28T10:17:30.270901Z"
    }
   },
   "outputs": [
    {
     "name": "stdout",
     "output_type": "stream",
     "text": [
      "(674258, 6)\n"
     ]
    },
    {
     "data": {
      "text/html": [
       "<div>\n",
       "<style scoped>\n",
       "    .dataframe tbody tr th:only-of-type {\n",
       "        vertical-align: middle;\n",
       "    }\n",
       "\n",
       "    .dataframe tbody tr th {\n",
       "        vertical-align: top;\n",
       "    }\n",
       "\n",
       "    .dataframe thead th {\n",
       "        text-align: right;\n",
       "    }\n",
       "</style>\n",
       "<table border=\"1\" class=\"dataframe\">\n",
       "  <thead>\n",
       "    <tr style=\"text-align: right;\">\n",
       "      <th></th>\n",
       "      <th>sop_instance_uid</th>\n",
       "      <th>patient_id</th>\n",
       "      <th>study_instance_uid</th>\n",
       "      <th>series_instance_uid</th>\n",
       "      <th>filename</th>\n",
       "      <th>set</th>\n",
       "    </tr>\n",
       "  </thead>\n",
       "  <tbody>\n",
       "    <tr>\n",
       "      <th>0</th>\n",
       "      <td>ID_ff816e9b6</td>\n",
       "      <td>ID_b14d854e</td>\n",
       "      <td>ID_c65a8f2f00</td>\n",
       "      <td>ID_79d2473b55</td>\n",
       "      <td>ID_ff816e9b6.dcm</td>\n",
       "      <td>1</td>\n",
       "    </tr>\n",
       "    <tr>\n",
       "      <th>1</th>\n",
       "      <td>ID_282a7f3cd</td>\n",
       "      <td>ID_79cf35b0</td>\n",
       "      <td>ID_9ee24d714d</td>\n",
       "      <td>ID_fe49a86511</td>\n",
       "      <td>ID_282a7f3cd.dcm</td>\n",
       "      <td>1</td>\n",
       "    </tr>\n",
       "    <tr>\n",
       "      <th>2</th>\n",
       "      <td>ID_f1c65b76e</td>\n",
       "      <td>ID_43dd2890</td>\n",
       "      <td>ID_43af13416f</td>\n",
       "      <td>ID_143018582f</td>\n",
       "      <td>ID_f1c65b76e.dcm</td>\n",
       "      <td>1</td>\n",
       "    </tr>\n",
       "  </tbody>\n",
       "</table>\n",
       "</div>"
      ],
      "text/plain": [
       "  sop_instance_uid   patient_id study_instance_uid series_instance_uid  \\\n",
       "0     ID_ff816e9b6  ID_b14d854e      ID_c65a8f2f00       ID_79d2473b55   \n",
       "1     ID_282a7f3cd  ID_79cf35b0      ID_9ee24d714d       ID_fe49a86511   \n",
       "2     ID_f1c65b76e  ID_43dd2890      ID_43af13416f       ID_143018582f   \n",
       "\n",
       "           filename  set  \n",
       "0  ID_ff816e9b6.dcm    1  \n",
       "1  ID_282a7f3cd.dcm    1  \n",
       "2  ID_f1c65b76e.dcm    1  "
      ]
     },
     "execution_count": 3,
     "metadata": {},
     "output_type": "execute_result"
    }
   ],
   "source": [
    "# usecols = ['ID', 'Label', 'Sub_type', 'PatientID']\n",
    "\n",
    "usecols = [\"sop_instance_uid\", \"patient_id\", \"study_instance_uid\", \"series_instance_uid\", \"filename\"]\n",
    "\n",
    "#train_metadata = pd.read_csv(input_dir + \"stage_1_metadata.csv\", usecols = usecols)\n",
    "\n",
    "train_metadata = pd.read_csv(input_dir + \"df_dicom_metadata_train.csv\", usecols = usecols)\n",
    "train_metadata[\"filename\"] = train_metadata[\"filename\"].apply(lambda x: x.split(\"/\")[-1])\n",
    "train_metadata[\"set\"] = 1\n",
    "print(train_metadata.shape)\n",
    "train_metadata.head(3)"
   ]
  },
  {
   "cell_type": "code",
   "execution_count": 4,
   "metadata": {
    "ExecuteTime": {
     "end_time": "2019-10-28T10:17:33.205340Z",
     "start_time": "2019-10-28T10:17:32.820911Z"
    }
   },
   "outputs": [
    {
     "data": {
      "image/png": "[encoded data removed]",
      "text/plain": [
       "<Figure size 432x288 with 1 Axes>"
      ]
     },
     "metadata": {
      "needs_background": "light"
     },
     "output_type": "display_data"
    }
   ],
   "source": [
    "tmp = train_metadata[\"patient_id\"].value_counts()\n",
    "tmp[tmp<100].hist(bins=50);"
   ]
  },
  {
   "cell_type": "code",
   "execution_count": 5,
   "metadata": {
    "ExecuteTime": {
     "end_time": "2019-10-28T10:17:33.820870Z",
     "start_time": "2019-10-28T10:17:33.207007Z"
    }
   },
   "outputs": [
    {
     "name": "stdout",
     "output_type": "stream",
     "text": [
      "(78545, 6)\n"
     ]
    },
    {
     "data": {
      "text/html": [
       "<div>\n",
       "<style scoped>\n",
       "    .dataframe tbody tr th:only-of-type {\n",
       "        vertical-align: middle;\n",
       "    }\n",
       "\n",
       "    .dataframe tbody tr th {\n",
       "        vertical-align: top;\n",
       "    }\n",
       "\n",
       "    .dataframe thead th {\n",
       "        text-align: right;\n",
       "    }\n",
       "</style>\n",
       "<table border=\"1\" class=\"dataframe\">\n",
       "  <thead>\n",
       "    <tr style=\"text-align: right;\">\n",
       "      <th></th>\n",
       "      <th>sop_instance_uid</th>\n",
       "      <th>patient_id</th>\n",
       "      <th>study_instance_uid</th>\n",
       "      <th>series_instance_uid</th>\n",
       "      <th>filename</th>\n",
       "      <th>set</th>\n",
       "    </tr>\n",
       "  </thead>\n",
       "  <tbody>\n",
       "    <tr>\n",
       "      <th>0</th>\n",
       "      <td>ID_cec48be98</td>\n",
       "      <td>ID_02159492</td>\n",
       "      <td>ID_6d53e6b7a1</td>\n",
       "      <td>ID_8a81168925</td>\n",
       "      <td>ID_ff816e9b6.dcm</td>\n",
       "      <td>0</td>\n",
       "    </tr>\n",
       "    <tr>\n",
       "      <th>1</th>\n",
       "      <td>ID_24499006f</td>\n",
       "      <td>ID_d11a0081</td>\n",
       "      <td>ID_816f37dbe8</td>\n",
       "      <td>ID_d06566b389</td>\n",
       "      <td>ID_282a7f3cd.dcm</td>\n",
       "      <td>0</td>\n",
       "    </tr>\n",
       "    <tr>\n",
       "      <th>2</th>\n",
       "      <td>ID_398dc0001</td>\n",
       "      <td>ID_c4cc9737</td>\n",
       "      <td>ID_5f64ee7147</td>\n",
       "      <td>ID_ffa52dd6f4</td>\n",
       "      <td>ID_f1c65b76e.dcm</td>\n",
       "      <td>0</td>\n",
       "    </tr>\n",
       "  </tbody>\n",
       "</table>\n",
       "</div>"
      ],
      "text/plain": [
       "  sop_instance_uid   patient_id study_instance_uid series_instance_uid  \\\n",
       "0     ID_cec48be98  ID_02159492      ID_6d53e6b7a1       ID_8a81168925   \n",
       "1     ID_24499006f  ID_d11a0081      ID_816f37dbe8       ID_d06566b389   \n",
       "2     ID_398dc0001  ID_c4cc9737      ID_5f64ee7147       ID_ffa52dd6f4   \n",
       "\n",
       "           filename  set  \n",
       "0  ID_ff816e9b6.dcm    0  \n",
       "1  ID_282a7f3cd.dcm    0  \n",
       "2  ID_f1c65b76e.dcm    0  "
      ]
     },
     "execution_count": 5,
     "metadata": {},
     "output_type": "execute_result"
    }
   ],
   "source": [
    "test_metadata = pd.read_csv(input_dir + \"df_dicom_metadata_test.csv\", usecols = usecols)\n",
    "test_metadata[\"filename\"] = train_metadata[\"filename\"].apply(lambda x: x.split(\"/\")[-1])\n",
    "test_metadata[\"set\"] = 0\n",
    "print(test_metadata.shape)\n",
    "test_metadata.head(3)"
   ]
  },
  {
   "cell_type": "code",
   "execution_count": 6,
   "metadata": {
    "ExecuteTime": {
     "end_time": "2019-10-28T10:17:33.940104Z",
     "start_time": "2019-10-28T10:17:33.824445Z"
    }
   },
   "outputs": [
    {
     "name": "stdout",
     "output_type": "stream",
     "text": [
      "17079 2144\n"
     ]
    }
   ],
   "source": [
    "patient_id_train = set(train_metadata[\"patient_id\"].unique())\n",
    "patient_id_test = set(test_metadata[\"patient_id\"].unique())\n",
    "print(len(patient_id_train), len(patient_id_test))"
   ]
  },
  {
   "cell_type": "code",
   "execution_count": 7,
   "metadata": {
    "ExecuteTime": {
     "end_time": "2019-10-28T10:17:33.948043Z",
     "start_time": "2019-10-28T10:17:33.942537Z"
    }
   },
   "outputs": [
    {
     "data": {
      "text/plain": [
       "285"
      ]
     },
     "execution_count": 7,
     "metadata": {},
     "output_type": "execute_result"
    }
   ],
   "source": [
    "patient_id_dup = patient_id_train.intersection(patient_id_test)\n",
    "len(patient_id_dup)"
   ]
  },
  {
   "cell_type": "markdown",
   "metadata": {},
   "source": [
    "# Label any"
   ]
  },
  {
   "cell_type": "code",
   "execution_count": 8,
   "metadata": {
    "ExecuteTime": {
     "end_time": "2019-10-28T10:17:38.326778Z",
     "start_time": "2019-10-28T10:17:33.951544Z"
    }
   },
   "outputs": [
    {
     "name": "stdout",
     "output_type": "stream",
     "text": [
      "(4045572, 2)\n"
     ]
    },
    {
     "data": {
      "text/html": [
       "<div>\n",
       "<style scoped>\n",
       "    .dataframe tbody tr th:only-of-type {\n",
       "        vertical-align: middle;\n",
       "    }\n",
       "\n",
       "    .dataframe tbody tr th {\n",
       "        vertical-align: top;\n",
       "    }\n",
       "\n",
       "    .dataframe thead th {\n",
       "        text-align: right;\n",
       "    }\n",
       "</style>\n",
       "<table border=\"1\" class=\"dataframe\">\n",
       "  <thead>\n",
       "    <tr style=\"text-align: right;\">\n",
       "      <th></th>\n",
       "      <th>ID</th>\n",
       "      <th>Label</th>\n",
       "    </tr>\n",
       "  </thead>\n",
       "  <tbody>\n",
       "    <tr>\n",
       "      <th>0</th>\n",
       "      <td>ID_63eb1e259_epidural</td>\n",
       "      <td>0</td>\n",
       "    </tr>\n",
       "    <tr>\n",
       "      <th>1</th>\n",
       "      <td>ID_63eb1e259_intraparenchymal</td>\n",
       "      <td>0</td>\n",
       "    </tr>\n",
       "    <tr>\n",
       "      <th>2</th>\n",
       "      <td>ID_63eb1e259_intraventricular</td>\n",
       "      <td>0</td>\n",
       "    </tr>\n",
       "  </tbody>\n",
       "</table>\n",
       "</div>"
      ],
      "text/plain": [
       "                              ID  Label\n",
       "0          ID_63eb1e259_epidural      0\n",
       "1  ID_63eb1e259_intraparenchymal      0\n",
       "2  ID_63eb1e259_intraventricular      0"
      ]
     },
     "execution_count": 8,
     "metadata": {},
     "output_type": "execute_result"
    }
   ],
   "source": [
    "train_label = pd.read_csv(input_dir + \"stage_1_train.csv\", usecols = None)\n",
    "print(train_label.shape)\n",
    "train_label.head(3)"
   ]
  },
  {
   "cell_type": "code",
   "execution_count": 9,
   "metadata": {
    "ExecuteTime": {
     "end_time": "2019-10-28T10:17:42.402043Z",
     "start_time": "2019-10-28T10:17:38.329522Z"
    }
   },
   "outputs": [
    {
     "data": {
      "text/html": [
       "<div>\n",
       "<style scoped>\n",
       "    .dataframe tbody tr th:only-of-type {\n",
       "        vertical-align: middle;\n",
       "    }\n",
       "\n",
       "    .dataframe tbody tr th {\n",
       "        vertical-align: top;\n",
       "    }\n",
       "\n",
       "    .dataframe thead th {\n",
       "        text-align: right;\n",
       "    }\n",
       "</style>\n",
       "<table border=\"1\" class=\"dataframe\">\n",
       "  <thead>\n",
       "    <tr style=\"text-align: right;\">\n",
       "      <th></th>\n",
       "      <th>ID</th>\n",
       "      <th>Label</th>\n",
       "      <th>sop_instance_uid</th>\n",
       "      <th>SubType</th>\n",
       "    </tr>\n",
       "  </thead>\n",
       "  <tbody>\n",
       "    <tr>\n",
       "      <th>0</th>\n",
       "      <td>ID_63eb1e259_epidural</td>\n",
       "      <td>0</td>\n",
       "      <td>ID_63eb1e259</td>\n",
       "      <td>epidural</td>\n",
       "    </tr>\n",
       "    <tr>\n",
       "      <th>1</th>\n",
       "      <td>ID_63eb1e259_intraparenchymal</td>\n",
       "      <td>0</td>\n",
       "      <td>ID_63eb1e259</td>\n",
       "      <td>intraparenchymal</td>\n",
       "    </tr>\n",
       "    <tr>\n",
       "      <th>2</th>\n",
       "      <td>ID_63eb1e259_intraventricular</td>\n",
       "      <td>0</td>\n",
       "      <td>ID_63eb1e259</td>\n",
       "      <td>intraventricular</td>\n",
       "    </tr>\n",
       "  </tbody>\n",
       "</table>\n",
       "</div>"
      ],
      "text/plain": [
       "                              ID  Label sop_instance_uid           SubType\n",
       "0          ID_63eb1e259_epidural      0     ID_63eb1e259          epidural\n",
       "1  ID_63eb1e259_intraparenchymal      0     ID_63eb1e259  intraparenchymal\n",
       "2  ID_63eb1e259_intraventricular      0     ID_63eb1e259  intraventricular"
      ]
     },
     "execution_count": 9,
     "metadata": {},
     "output_type": "execute_result"
    }
   ],
   "source": [
    "train_label[\"sop_instance_uid\"] = train_label[\"ID\"].apply(lambda x: \"ID_\" + x.split(\"_\")[1])\n",
    "train_label[\"SubType\"] = train_label[\"ID\"].apply(lambda x: x.split(\"_\")[2])\n",
    "train_label.head(3)"
   ]
  },
  {
   "cell_type": "code",
   "execution_count": 10,
   "metadata": {
    "ExecuteTime": {
     "end_time": "2019-10-28T10:17:43.143396Z",
     "start_time": "2019-10-28T10:17:42.404125Z"
    }
   },
   "outputs": [
    {
     "name": "stdout",
     "output_type": "stream",
     "text": [
      "4045572\n",
      "674262\n"
     ]
    }
   ],
   "source": [
    "print(train_label.shape[0])\n",
    "train_label = train_label[train_label[\"SubType\"] == \"any\"].copy()\n",
    "print(train_label.shape[0])"
   ]
  },
  {
   "cell_type": "code",
   "execution_count": 11,
   "metadata": {
    "ExecuteTime": {
     "end_time": "2019-10-28T10:17:43.198338Z",
     "start_time": "2019-10-28T10:17:43.145239Z"
    }
   },
   "outputs": [
    {
     "data": {
      "text/html": [
       "<div>\n",
       "<style scoped>\n",
       "    .dataframe tbody tr th:only-of-type {\n",
       "        vertical-align: middle;\n",
       "    }\n",
       "\n",
       "    .dataframe tbody tr th {\n",
       "        vertical-align: top;\n",
       "    }\n",
       "\n",
       "    .dataframe thead th {\n",
       "        text-align: right;\n",
       "    }\n",
       "</style>\n",
       "<table border=\"1\" class=\"dataframe\">\n",
       "  <thead>\n",
       "    <tr style=\"text-align: right;\">\n",
       "      <th></th>\n",
       "      <th>ID</th>\n",
       "      <th>any</th>\n",
       "      <th>sop_instance_uid</th>\n",
       "      <th>SubType</th>\n",
       "    </tr>\n",
       "  </thead>\n",
       "  <tbody>\n",
       "    <tr>\n",
       "      <th>5</th>\n",
       "      <td>ID_63eb1e259_any</td>\n",
       "      <td>0</td>\n",
       "      <td>ID_63eb1e259</td>\n",
       "      <td>any</td>\n",
       "    </tr>\n",
       "    <tr>\n",
       "      <th>11</th>\n",
       "      <td>ID_2669954a7_any</td>\n",
       "      <td>0</td>\n",
       "      <td>ID_2669954a7</td>\n",
       "      <td>any</td>\n",
       "    </tr>\n",
       "    <tr>\n",
       "      <th>17</th>\n",
       "      <td>ID_52c9913b1_any</td>\n",
       "      <td>0</td>\n",
       "      <td>ID_52c9913b1</td>\n",
       "      <td>any</td>\n",
       "    </tr>\n",
       "  </tbody>\n",
       "</table>\n",
       "</div>"
      ],
      "text/plain": [
       "                  ID  any sop_instance_uid SubType\n",
       "5   ID_63eb1e259_any    0     ID_63eb1e259     any\n",
       "11  ID_2669954a7_any    0     ID_2669954a7     any\n",
       "17  ID_52c9913b1_any    0     ID_52c9913b1     any"
      ]
     },
     "execution_count": 11,
     "metadata": {},
     "output_type": "execute_result"
    }
   ],
   "source": [
    "train_label.rename(columns={\"Label\": \"any\"}, inplace=True)\n",
    "train_label.head(3)"
   ]
  },
  {
   "cell_type": "code",
   "execution_count": 12,
   "metadata": {
    "ExecuteTime": {
     "end_time": "2019-10-28T10:17:43.978361Z",
     "start_time": "2019-10-28T10:17:43.200139Z"
    }
   },
   "outputs": [
    {
     "name": "stdout",
     "output_type": "stream",
     "text": [
      "(674258, 6)\n",
      "(674262, 7)\n"
     ]
    },
    {
     "data": {
      "text/html": [
       "<div>\n",
       "<style scoped>\n",
       "    .dataframe tbody tr th:only-of-type {\n",
       "        vertical-align: middle;\n",
       "    }\n",
       "\n",
       "    .dataframe tbody tr th {\n",
       "        vertical-align: top;\n",
       "    }\n",
       "\n",
       "    .dataframe thead th {\n",
       "        text-align: right;\n",
       "    }\n",
       "</style>\n",
       "<table border=\"1\" class=\"dataframe\">\n",
       "  <thead>\n",
       "    <tr style=\"text-align: right;\">\n",
       "      <th></th>\n",
       "      <th>sop_instance_uid</th>\n",
       "      <th>patient_id</th>\n",
       "      <th>study_instance_uid</th>\n",
       "      <th>series_instance_uid</th>\n",
       "      <th>filename</th>\n",
       "      <th>set</th>\n",
       "      <th>any</th>\n",
       "    </tr>\n",
       "  </thead>\n",
       "  <tbody>\n",
       "    <tr>\n",
       "      <th>0</th>\n",
       "      <td>ID_ff816e9b6</td>\n",
       "      <td>ID_b14d854e</td>\n",
       "      <td>ID_c65a8f2f00</td>\n",
       "      <td>ID_79d2473b55</td>\n",
       "      <td>ID_ff816e9b6.dcm</td>\n",
       "      <td>1</td>\n",
       "      <td>0</td>\n",
       "    </tr>\n",
       "    <tr>\n",
       "      <th>1</th>\n",
       "      <td>ID_282a7f3cd</td>\n",
       "      <td>ID_79cf35b0</td>\n",
       "      <td>ID_9ee24d714d</td>\n",
       "      <td>ID_fe49a86511</td>\n",
       "      <td>ID_282a7f3cd.dcm</td>\n",
       "      <td>1</td>\n",
       "      <td>0</td>\n",
       "    </tr>\n",
       "    <tr>\n",
       "      <th>2</th>\n",
       "      <td>ID_f1c65b76e</td>\n",
       "      <td>ID_43dd2890</td>\n",
       "      <td>ID_43af13416f</td>\n",
       "      <td>ID_143018582f</td>\n",
       "      <td>ID_f1c65b76e.dcm</td>\n",
       "      <td>1</td>\n",
       "      <td>0</td>\n",
       "    </tr>\n",
       "    <tr>\n",
       "      <th>3</th>\n",
       "      <td>ID_3b59681d3</td>\n",
       "      <td>ID_174f992b</td>\n",
       "      <td>ID_31f18d004c</td>\n",
       "      <td>ID_def4bb5674</td>\n",
       "      <td>ID_3b59681d3.dcm</td>\n",
       "      <td>1</td>\n",
       "      <td>0</td>\n",
       "    </tr>\n",
       "    <tr>\n",
       "      <th>4</th>\n",
       "      <td>ID_f506d79aa</td>\n",
       "      <td>ID_5758a541</td>\n",
       "      <td>ID_0f7a5b14c1</td>\n",
       "      <td>ID_a701a416fc</td>\n",
       "      <td>ID_f506d79aa.dcm</td>\n",
       "      <td>1</td>\n",
       "      <td>0</td>\n",
       "    </tr>\n",
       "  </tbody>\n",
       "</table>\n",
       "</div>"
      ],
      "text/plain": [
       "  sop_instance_uid   patient_id study_instance_uid series_instance_uid  \\\n",
       "0     ID_ff816e9b6  ID_b14d854e      ID_c65a8f2f00       ID_79d2473b55   \n",
       "1     ID_282a7f3cd  ID_79cf35b0      ID_9ee24d714d       ID_fe49a86511   \n",
       "2     ID_f1c65b76e  ID_43dd2890      ID_43af13416f       ID_143018582f   \n",
       "3     ID_3b59681d3  ID_174f992b      ID_31f18d004c       ID_def4bb5674   \n",
       "4     ID_f506d79aa  ID_5758a541      ID_0f7a5b14c1       ID_a701a416fc   \n",
       "\n",
       "           filename  set  any  \n",
       "0  ID_ff816e9b6.dcm    1    0  \n",
       "1  ID_282a7f3cd.dcm    1    0  \n",
       "2  ID_f1c65b76e.dcm    1    0  \n",
       "3  ID_3b59681d3.dcm    1    0  \n",
       "4  ID_f506d79aa.dcm    1    0  "
      ]
     },
     "execution_count": 12,
     "metadata": {},
     "output_type": "execute_result"
    }
   ],
   "source": [
    "print(train_metadata.shape)\n",
    "train_metadata = pd.merge(train_metadata, train_label[[\"sop_instance_uid\", \"any\"]], on=\"sop_instance_uid\")\n",
    "print(train_metadata.shape)\n",
    "train_metadata.head()"
   ]
  },
  {
   "cell_type": "markdown",
   "metadata": {},
   "source": [
    "# Number of studies per patients"
   ]
  },
  {
   "cell_type": "code",
   "execution_count": 13,
   "metadata": {
    "ExecuteTime": {
     "end_time": "2019-10-28T10:17:43.987652Z",
     "start_time": "2019-10-28T10:17:43.979836Z"
    }
   },
   "outputs": [
    {
     "data": {
      "text/html": [
       "<div>\n",
       "<style scoped>\n",
       "    .dataframe tbody tr th:only-of-type {\n",
       "        vertical-align: middle;\n",
       "    }\n",
       "\n",
       "    .dataframe tbody tr th {\n",
       "        vertical-align: top;\n",
       "    }\n",
       "\n",
       "    .dataframe thead th {\n",
       "        text-align: right;\n",
       "    }\n",
       "</style>\n",
       "<table border=\"1\" class=\"dataframe\">\n",
       "  <thead>\n",
       "    <tr style=\"text-align: right;\">\n",
       "      <th></th>\n",
       "      <th>sop_instance_uid</th>\n",
       "      <th>patient_id</th>\n",
       "      <th>study_instance_uid</th>\n",
       "      <th>series_instance_uid</th>\n",
       "      <th>filename</th>\n",
       "      <th>set</th>\n",
       "      <th>any</th>\n",
       "    </tr>\n",
       "  </thead>\n",
       "  <tbody>\n",
       "    <tr>\n",
       "      <th>0</th>\n",
       "      <td>ID_ff816e9b6</td>\n",
       "      <td>ID_b14d854e</td>\n",
       "      <td>ID_c65a8f2f00</td>\n",
       "      <td>ID_79d2473b55</td>\n",
       "      <td>ID_ff816e9b6.dcm</td>\n",
       "      <td>1</td>\n",
       "      <td>0</td>\n",
       "    </tr>\n",
       "    <tr>\n",
       "      <th>1</th>\n",
       "      <td>ID_282a7f3cd</td>\n",
       "      <td>ID_79cf35b0</td>\n",
       "      <td>ID_9ee24d714d</td>\n",
       "      <td>ID_fe49a86511</td>\n",
       "      <td>ID_282a7f3cd.dcm</td>\n",
       "      <td>1</td>\n",
       "      <td>0</td>\n",
       "    </tr>\n",
       "    <tr>\n",
       "      <th>2</th>\n",
       "      <td>ID_f1c65b76e</td>\n",
       "      <td>ID_43dd2890</td>\n",
       "      <td>ID_43af13416f</td>\n",
       "      <td>ID_143018582f</td>\n",
       "      <td>ID_f1c65b76e.dcm</td>\n",
       "      <td>1</td>\n",
       "      <td>0</td>\n",
       "    </tr>\n",
       "  </tbody>\n",
       "</table>\n",
       "</div>"
      ],
      "text/plain": [
       "  sop_instance_uid   patient_id study_instance_uid series_instance_uid  \\\n",
       "0     ID_ff816e9b6  ID_b14d854e      ID_c65a8f2f00       ID_79d2473b55   \n",
       "1     ID_282a7f3cd  ID_79cf35b0      ID_9ee24d714d       ID_fe49a86511   \n",
       "2     ID_f1c65b76e  ID_43dd2890      ID_43af13416f       ID_143018582f   \n",
       "\n",
       "           filename  set  any  \n",
       "0  ID_ff816e9b6.dcm    1    0  \n",
       "1  ID_282a7f3cd.dcm    1    0  \n",
       "2  ID_f1c65b76e.dcm    1    0  "
      ]
     },
     "execution_count": 13,
     "metadata": {},
     "output_type": "execute_result"
    }
   ],
   "source": [
    "train_metadata.head(3)"
   ]
  },
  {
   "cell_type": "code",
   "execution_count": 14,
   "metadata": {
    "ExecuteTime": {
     "end_time": "2019-10-28T10:17:44.883106Z",
     "start_time": "2019-10-28T10:17:43.989036Z"
    }
   },
   "outputs": [
    {
     "name": "stdout",
     "output_type": "stream",
     "text": [
      "(674262, 7) (17079, 2)\n"
     ]
    },
    {
     "data": {
      "text/html": [
       "<div>\n",
       "<style scoped>\n",
       "    .dataframe tbody tr th:only-of-type {\n",
       "        vertical-align: middle;\n",
       "    }\n",
       "\n",
       "    .dataframe tbody tr th {\n",
       "        vertical-align: top;\n",
       "    }\n",
       "\n",
       "    .dataframe thead th {\n",
       "        text-align: right;\n",
       "    }\n",
       "</style>\n",
       "<table border=\"1\" class=\"dataframe\">\n",
       "  <thead>\n",
       "    <tr style=\"text-align: right;\">\n",
       "      <th></th>\n",
       "      <th>patient_id</th>\n",
       "      <th>nb_studies</th>\n",
       "    </tr>\n",
       "  </thead>\n",
       "  <tbody>\n",
       "    <tr>\n",
       "      <th>2610</th>\n",
       "      <td>ID_268b38fe</td>\n",
       "      <td>15</td>\n",
       "    </tr>\n",
       "    <tr>\n",
       "      <th>13322</th>\n",
       "      <td>ID_c7b2c196</td>\n",
       "      <td>11</td>\n",
       "    </tr>\n",
       "    <tr>\n",
       "      <th>6270</th>\n",
       "      <td>ID_5e035492</td>\n",
       "      <td>11</td>\n",
       "    </tr>\n",
       "  </tbody>\n",
       "</table>\n",
       "</div>"
      ],
      "text/plain": [
       "        patient_id  nb_studies\n",
       "2610   ID_268b38fe          15\n",
       "13322  ID_c7b2c196          11\n",
       "6270   ID_5e035492          11"
      ]
     },
     "execution_count": 14,
     "metadata": {},
     "output_type": "execute_result"
    }
   ],
   "source": [
    "#df_studies = train_metadata[[\"patient_id\", \"study_instance_uid\"]].drop_duplicates()\n",
    "\n",
    "df_studies = train_metadata.groupby(\"patient_id\")[\"study_instance_uid\"].nunique()\\\n",
    "    .to_frame(\"nb_studies\").reset_index()\n",
    "print(train_metadata.shape, df_studies.shape)\n",
    "df_studies.sort_values(\"nb_studies\", ascending=False, inplace=True)\n",
    "df_studies.head(3)"
   ]
  },
  {
   "cell_type": "markdown",
   "metadata": {},
   "source": [
    "# Splits"
   ]
  },
  {
   "cell_type": "code",
   "execution_count": 15,
   "metadata": {
    "ExecuteTime": {
     "end_time": "2019-10-28T10:17:44.892495Z",
     "start_time": "2019-10-28T10:17:44.884524Z"
    }
   },
   "outputs": [
    {
     "name": "stdout",
     "output_type": "stream",
     "text": [
      "17079 16646 2144 1859\n"
     ]
    }
   ],
   "source": [
    "stacking_patients_train = set(df_studies[df_studies[\"nb_studies\"] <= 2][\"patient_id\"])\n",
    "stacking_patients_test = patient_id_test.difference(patient_id_dup)\n",
    "\n",
    "print(df_studies.shape[0], len(stacking_patients_train), len(patient_id_test), len(stacking_patients_test))"
   ]
  },
  {
   "cell_type": "code",
   "execution_count": 16,
   "metadata": {
    "ExecuteTime": {
     "end_time": "2019-10-28T10:17:45.048333Z",
     "start_time": "2019-10-28T10:17:44.893692Z"
    }
   },
   "outputs": [
    {
     "data": {
      "text/plain": [
       "(674262, 611594)"
      ]
     },
     "execution_count": 16,
     "metadata": {},
     "output_type": "execute_result"
    }
   ],
   "source": [
    "train_metadata.shape[0], \\\n",
    "    train_metadata[train_metadata[\"patient_id\"].isin(stacking_patients_train)].shape[0]"
   ]
  },
  {
   "cell_type": "code",
   "execution_count": 17,
   "metadata": {
    "ExecuteTime": {
     "end_time": "2019-10-28T10:17:45.077611Z",
     "start_time": "2019-10-28T10:17:45.049687Z"
    }
   },
   "outputs": [
    {
     "data": {
      "text/plain": [
       "(78545, 66894)"
      ]
     },
     "execution_count": 17,
     "metadata": {},
     "output_type": "execute_result"
    }
   ],
   "source": [
    "test_metadata.shape[0], test_metadata[test_metadata[\"patient_id\"].isin(stacking_patients_test)].shape[0]"
   ]
  },
  {
   "cell_type": "markdown",
   "metadata": {},
   "source": [
    "## Balancing"
   ]
  },
  {
   "cell_type": "code",
   "execution_count": 18,
   "metadata": {
    "ExecuteTime": {
     "end_time": "2019-10-28T10:17:45.105122Z",
     "start_time": "2019-10-28T10:17:45.078876Z"
    }
   },
   "outputs": [
    {
     "data": {
      "text/html": [
       "<div>\n",
       "<style scoped>\n",
       "    .dataframe tbody tr th:only-of-type {\n",
       "        vertical-align: middle;\n",
       "    }\n",
       "\n",
       "    .dataframe tbody tr th {\n",
       "        vertical-align: top;\n",
       "    }\n",
       "\n",
       "    .dataframe thead th {\n",
       "        text-align: right;\n",
       "    }\n",
       "</style>\n",
       "<table border=\"1\" class=\"dataframe\">\n",
       "  <thead>\n",
       "    <tr style=\"text-align: right;\">\n",
       "      <th></th>\n",
       "      <th>sop_instance_uid</th>\n",
       "      <th>patient_id</th>\n",
       "      <th>study_instance_uid</th>\n",
       "      <th>series_instance_uid</th>\n",
       "      <th>filename</th>\n",
       "      <th>set</th>\n",
       "      <th>any</th>\n",
       "    </tr>\n",
       "  </thead>\n",
       "  <tbody>\n",
       "    <tr>\n",
       "      <th>0</th>\n",
       "      <td>ID_ff816e9b6</td>\n",
       "      <td>ID_b14d854e</td>\n",
       "      <td>ID_c65a8f2f00</td>\n",
       "      <td>ID_79d2473b55</td>\n",
       "      <td>ID_ff816e9b6.dcm</td>\n",
       "      <td>1</td>\n",
       "      <td>0</td>\n",
       "    </tr>\n",
       "    <tr>\n",
       "      <th>1</th>\n",
       "      <td>ID_282a7f3cd</td>\n",
       "      <td>ID_79cf35b0</td>\n",
       "      <td>ID_9ee24d714d</td>\n",
       "      <td>ID_fe49a86511</td>\n",
       "      <td>ID_282a7f3cd.dcm</td>\n",
       "      <td>1</td>\n",
       "      <td>0</td>\n",
       "    </tr>\n",
       "    <tr>\n",
       "      <th>2</th>\n",
       "      <td>ID_f1c65b76e</td>\n",
       "      <td>ID_43dd2890</td>\n",
       "      <td>ID_43af13416f</td>\n",
       "      <td>ID_143018582f</td>\n",
       "      <td>ID_f1c65b76e.dcm</td>\n",
       "      <td>1</td>\n",
       "      <td>0</td>\n",
       "    </tr>\n",
       "  </tbody>\n",
       "</table>\n",
       "</div>"
      ],
      "text/plain": [
       "  sop_instance_uid   patient_id study_instance_uid series_instance_uid  \\\n",
       "0     ID_ff816e9b6  ID_b14d854e      ID_c65a8f2f00       ID_79d2473b55   \n",
       "1     ID_282a7f3cd  ID_79cf35b0      ID_9ee24d714d       ID_fe49a86511   \n",
       "2     ID_f1c65b76e  ID_43dd2890      ID_43af13416f       ID_143018582f   \n",
       "\n",
       "           filename  set  any  \n",
       "0  ID_ff816e9b6.dcm    1    0  \n",
       "1  ID_282a7f3cd.dcm    1    0  \n",
       "2  ID_f1c65b76e.dcm    1    0  "
      ]
     },
     "execution_count": 18,
     "metadata": {},
     "output_type": "execute_result"
    }
   ],
   "source": [
    "import random\n",
    "seed = 2020\n",
    "random.seed(seed)\n",
    "\n",
    "df = train_metadata\n",
    "df.head(3)"
   ]
  },
  {
   "cell_type": "code",
   "execution_count": 19,
   "metadata": {
    "ExecuteTime": {
     "end_time": "2019-10-28T10:17:45.185151Z",
     "start_time": "2019-10-28T10:17:45.107061Z"
    }
   },
   "outputs": [
    {
     "name": "stdout",
     "output_type": "stream",
     "text": [
      "6980 6704\n",
      "16646 13408 6704 6704\n"
     ]
    }
   ],
   "source": [
    "patients_pos = set(df[df[\"any\"] == 1][\"patient_id\"].unique())\n",
    "patients_pos_balance = patients_pos.intersection(stacking_patients_train)\n",
    "print(len(patients_pos), len(patients_pos_balance))\n",
    "\n",
    "patients_neg = stacking_patients_train - patients_pos_balance\n",
    "patients_neg_balance = random.sample(patients_neg, len(patients_pos_balance))\n",
    "\n",
    "stacking_patients_balance = patients_pos_balance.union(patients_neg_balance)\n",
    "\n",
    "print(len(stacking_patients_train), len(stacking_patients_balance), \\\n",
    "      len(patients_pos_balance), len(patients_neg_balance))"
   ]
  },
  {
   "cell_type": "markdown",
   "metadata": {},
   "source": [
    "## K-fold"
   ]
  },
  {
   "cell_type": "code",
   "execution_count": 20,
   "metadata": {
    "ExecuteTime": {
     "end_time": "2019-10-28T10:17:45.201351Z",
     "start_time": "2019-10-28T10:17:45.186453Z"
    }
   },
   "outputs": [
    {
     "name": "stdout",
     "output_type": "stream",
     "text": [
      "(13408, 1)\n"
     ]
    },
    {
     "data": {
      "text/html": [
       "<div>\n",
       "<style scoped>\n",
       "    .dataframe tbody tr th:only-of-type {\n",
       "        vertical-align: middle;\n",
       "    }\n",
       "\n",
       "    .dataframe tbody tr th {\n",
       "        vertical-align: top;\n",
       "    }\n",
       "\n",
       "    .dataframe thead th {\n",
       "        text-align: right;\n",
       "    }\n",
       "</style>\n",
       "<table border=\"1\" class=\"dataframe\">\n",
       "  <thead>\n",
       "    <tr style=\"text-align: right;\">\n",
       "      <th></th>\n",
       "      <th>patient_id</th>\n",
       "    </tr>\n",
       "  </thead>\n",
       "  <tbody>\n",
       "    <tr>\n",
       "      <th>0</th>\n",
       "      <td>ID_c9a4d5c0</td>\n",
       "    </tr>\n",
       "    <tr>\n",
       "      <th>1</th>\n",
       "      <td>ID_3dbf5080</td>\n",
       "    </tr>\n",
       "    <tr>\n",
       "      <th>2</th>\n",
       "      <td>ID_fef05960</td>\n",
       "    </tr>\n",
       "  </tbody>\n",
       "</table>\n",
       "</div>"
      ],
      "text/plain": [
       "    patient_id\n",
       "0  ID_c9a4d5c0\n",
       "1  ID_3dbf5080\n",
       "2  ID_fef05960"
      ]
     },
     "execution_count": 20,
     "metadata": {},
     "output_type": "execute_result"
    }
   ],
   "source": [
    "# NOT stacking_patients_train\n",
    "df_stacking_patients_train = pd.DataFrame(stacking_patients_balance)\n",
    "df_stacking_patients_train.columns = [\"patient_id\"]\n",
    "print(df_stacking_patients_train.shape)\n",
    "df_stacking_patients_train.head(3)"
   ]
  },
  {
   "cell_type": "code",
   "execution_count": 21,
   "metadata": {
    "ExecuteTime": {
     "end_time": "2019-10-28T10:17:45.272051Z",
     "start_time": "2019-10-28T10:17:45.202998Z"
    }
   },
   "outputs": [
    {
     "data": {
      "text/plain": [
       "0    2705\n",
       "2    2688\n",
       "3    2677\n",
       "4    2670\n",
       "1    2668\n",
       "Name: stacking_fold, dtype: int64"
      ]
     },
     "execution_count": 21,
     "metadata": {},
     "output_type": "execute_result"
    }
   ],
   "source": [
    "from sklearn.model_selection import KFold\n",
    "\n",
    "seed = 2020\n",
    "n_splits = 5\n",
    "kf = KFold(n_splits=n_splits, shuffle=True, random_state=seed) # StratifiedKFold\n",
    "\n",
    "patient_id = np.array(list(stacking_patients_train))\n",
    "\n",
    "df_stacking_patients_train[\"stacking_fold\"] = -1\n",
    "\n",
    "for fold, (train_index, valid_index) in enumerate(kf.split(patient_id)):\n",
    "    valid_index = df_stacking_patients_train[\"patient_id\"].isin(patient_id[valid_index])\n",
    "    df_stacking_patients_train.loc[valid_index, \"stacking_fold\"] = fold\n",
    "    \n",
    "df_stacking_patients_train[\"stacking_fold\"].value_counts()"
   ]
  },
  {
   "cell_type": "code",
   "execution_count": 22,
   "metadata": {
    "ExecuteTime": {
     "end_time": "2019-10-28T10:17:45.278274Z",
     "start_time": "2019-10-28T10:17:45.273461Z"
    }
   },
   "outputs": [
    {
     "data": {
      "text/html": [
       "<div>\n",
       "<style scoped>\n",
       "    .dataframe tbody tr th:only-of-type {\n",
       "        vertical-align: middle;\n",
       "    }\n",
       "\n",
       "    .dataframe tbody tr th {\n",
       "        vertical-align: top;\n",
       "    }\n",
       "\n",
       "    .dataframe thead th {\n",
       "        text-align: right;\n",
       "    }\n",
       "</style>\n",
       "<table border=\"1\" class=\"dataframe\">\n",
       "  <thead>\n",
       "    <tr style=\"text-align: right;\">\n",
       "      <th></th>\n",
       "      <th>patient_id</th>\n",
       "      <th>stacking_fold</th>\n",
       "    </tr>\n",
       "  </thead>\n",
       "  <tbody>\n",
       "    <tr>\n",
       "      <th>0</th>\n",
       "      <td>ID_c9a4d5c0</td>\n",
       "      <td>1</td>\n",
       "    </tr>\n",
       "    <tr>\n",
       "      <th>1</th>\n",
       "      <td>ID_3dbf5080</td>\n",
       "      <td>3</td>\n",
       "    </tr>\n",
       "    <tr>\n",
       "      <th>2</th>\n",
       "      <td>ID_fef05960</td>\n",
       "      <td>0</td>\n",
       "    </tr>\n",
       "  </tbody>\n",
       "</table>\n",
       "</div>"
      ],
      "text/plain": [
       "    patient_id  stacking_fold\n",
       "0  ID_c9a4d5c0              1\n",
       "1  ID_3dbf5080              3\n",
       "2  ID_fef05960              0"
      ]
     },
     "execution_count": 22,
     "metadata": {},
     "output_type": "execute_result"
    }
   ],
   "source": [
    "df_stacking_patients_train.head(3)"
   ]
  },
  {
   "cell_type": "code",
   "execution_count": 23,
   "metadata": {
    "ExecuteTime": {
     "end_time": "2019-10-28T10:17:45.314319Z",
     "start_time": "2019-10-28T10:17:45.280676Z"
    }
   },
   "outputs": [
    {
     "name": "stdout",
     "output_type": "stream",
     "text": [
      "(1859, 2)\n"
     ]
    },
    {
     "data": {
      "text/html": [
       "<div>\n",
       "<style scoped>\n",
       "    .dataframe tbody tr th:only-of-type {\n",
       "        vertical-align: middle;\n",
       "    }\n",
       "\n",
       "    .dataframe tbody tr th {\n",
       "        vertical-align: top;\n",
       "    }\n",
       "\n",
       "    .dataframe thead th {\n",
       "        text-align: right;\n",
       "    }\n",
       "</style>\n",
       "<table border=\"1\" class=\"dataframe\">\n",
       "  <thead>\n",
       "    <tr style=\"text-align: right;\">\n",
       "      <th></th>\n",
       "      <th>patient_id</th>\n",
       "      <th>stacking_fold</th>\n",
       "    </tr>\n",
       "  </thead>\n",
       "  <tbody>\n",
       "    <tr>\n",
       "      <th>0</th>\n",
       "      <td>ID_a5f31bd3</td>\n",
       "      <td>5</td>\n",
       "    </tr>\n",
       "    <tr>\n",
       "      <th>1</th>\n",
       "      <td>ID_21d74ff6</td>\n",
       "      <td>5</td>\n",
       "    </tr>\n",
       "    <tr>\n",
       "      <th>2</th>\n",
       "      <td>ID_ebb62360</td>\n",
       "      <td>5</td>\n",
       "    </tr>\n",
       "  </tbody>\n",
       "</table>\n",
       "</div>"
      ],
      "text/plain": [
       "    patient_id  stacking_fold\n",
       "0  ID_a5f31bd3              5\n",
       "1  ID_21d74ff6              5\n",
       "2  ID_ebb62360              5"
      ]
     },
     "execution_count": 23,
     "metadata": {},
     "output_type": "execute_result"
    }
   ],
   "source": [
    "df_stacking_patients_test = pd.DataFrame(stacking_patients_test) \n",
    "df_stacking_patients_test.columns = [\"patient_id\"]\n",
    "df_stacking_patients_test[\"stacking_fold\"] = 5\n",
    "print(df_stacking_patients_test.shape)\n",
    "df_stacking_patients_test.head(3)"
   ]
  },
  {
   "cell_type": "markdown",
   "metadata": {},
   "source": [
    "## Merge train and test"
   ]
  },
  {
   "cell_type": "code",
   "execution_count": 24,
   "metadata": {
    "ExecuteTime": {
     "end_time": "2019-10-28T10:17:45.344735Z",
     "start_time": "2019-10-28T10:17:45.316891Z"
    }
   },
   "outputs": [
    {
     "name": "stdout",
     "output_type": "stream",
     "text": [
      "0    2705\n",
      "2    2688\n",
      "3    2677\n",
      "4    2670\n",
      "1    2668\n",
      "5    1859\n",
      "Name: stacking_fold, dtype: int64\n"
     ]
    },
    {
     "data": {
      "text/html": [
       "<div>\n",
       "<style scoped>\n",
       "    .dataframe tbody tr th:only-of-type {\n",
       "        vertical-align: middle;\n",
       "    }\n",
       "\n",
       "    .dataframe tbody tr th {\n",
       "        vertical-align: top;\n",
       "    }\n",
       "\n",
       "    .dataframe thead th {\n",
       "        text-align: right;\n",
       "    }\n",
       "</style>\n",
       "<table border=\"1\" class=\"dataframe\">\n",
       "  <thead>\n",
       "    <tr style=\"text-align: right;\">\n",
       "      <th></th>\n",
       "      <th>patient_id</th>\n",
       "      <th>stacking_fold</th>\n",
       "    </tr>\n",
       "  </thead>\n",
       "  <tbody>\n",
       "    <tr>\n",
       "      <th>0</th>\n",
       "      <td>ID_c9a4d5c0</td>\n",
       "      <td>1</td>\n",
       "    </tr>\n",
       "    <tr>\n",
       "      <th>1</th>\n",
       "      <td>ID_3dbf5080</td>\n",
       "      <td>3</td>\n",
       "    </tr>\n",
       "    <tr>\n",
       "      <th>2</th>\n",
       "      <td>ID_fef05960</td>\n",
       "      <td>0</td>\n",
       "    </tr>\n",
       "  </tbody>\n",
       "</table>\n",
       "</div>"
      ],
      "text/plain": [
       "    patient_id  stacking_fold\n",
       "0  ID_c9a4d5c0              1\n",
       "1  ID_3dbf5080              3\n",
       "2  ID_fef05960              0"
      ]
     },
     "execution_count": 24,
     "metadata": {},
     "output_type": "execute_result"
    }
   ],
   "source": [
    "df_stacking_patients = pd.concat([df_stacking_patients_train, df_stacking_patients_test], axis=0)\n",
    "print(df_stacking_patients[\"stacking_fold\"].value_counts())\n",
    "df_stacking_patients.head(3)"
   ]
  },
  {
   "cell_type": "markdown",
   "metadata": {},
   "source": [
    "## Save"
   ]
  },
  {
   "cell_type": "code",
   "execution_count": 25,
   "metadata": {
    "ExecuteTime": {
     "end_time": "2019-10-28T10:17:45.416655Z",
     "start_time": "2019-10-28T10:17:45.346391Z"
    }
   },
   "outputs": [
    {
     "data": {
      "text/plain": [
       "('../csv/patients_stacking_splits.csv', (15267, 2))"
      ]
     },
     "execution_count": 25,
     "metadata": {},
     "output_type": "execute_result"
    }
   ],
   "source": [
    "output_filename = \"../csv/patients_stacking_splits.csv\"\n",
    "df_stacking_patients.to_csv(output_filename, index=None)\n",
    "output_filename, df_stacking_patients.shape"
   ]
  },
  {
   "cell_type": "code",
   "execution_count": 27,
   "metadata": {
    "ExecuteTime": {
     "end_time": "2019-10-28T10:18:07.496918Z",
     "start_time": "2019-10-28T10:18:07.489999Z"
    }
   },
   "outputs": [
    {
     "data": {
      "text/plain": [
       "(15267, 0.1386485680190931)"
      ]
     },
     "execution_count": 27,
     "metadata": {},
     "output_type": "execute_result"
    }
   ],
   "source": [
    "13408 + 1859, 1859 / 13408 "
   ]
  }
 ],
 "metadata": {
  "kernelspec": {
   "display_name": "Python [conda env:gpu36]",
   "language": "python",
   "name": "conda-env-gpu36-py"
  },
  "language_info": {
   "codemirror_mode": {
    "name": "ipython",
    "version": 3
   },
   "file_extension": ".py",
   "mimetype": "text/x-python",
   "name": "python",
   "nbconvert_exporter": "python",
   "pygments_lexer": "ipython3",
   "version": "3.6.8"
  },
  "toc": {
   "base_numbering": 1,
   "nav_menu": {},
   "number_sections": true,
   "sideBar": true,
   "skip_h1_title": false,
   "title_cell": "Table of Contents",
   "title_sidebar": "Contents",
   "toc_cell": false,
   "toc_position": {
    "height": "calc(100% - 180px)",
    "left": "10px",
    "top": "150px",
    "width": "256px"
   },
   "toc_section_display": true,
   "toc_window_display": true
  }
 },
 "nbformat": 4,
 "nbformat_minor": 2
}
